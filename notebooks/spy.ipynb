{
 "cells": [
  {
   "cell_type": "code",
   "execution_count": 45,
   "metadata": {
    "collapsed": true,
    "pycharm": {
     "name": "#%%\n"
    }
   },
   "outputs": [],
   "source": [
    "import os\n",
    "import torch\n",
    "import torch.nn as nn\n",
    "import torch.utils.data as data\n",
    "\n",
    "import importlib\n",
    "\n",
    "from src.datasets.huge_stock_ds import spy\n",
    "from src.models import basic_dnn_regression\n",
    "importlib.reload(spy)\n",
    "importlib.reload(basic_dnn_regression)\n",
    "\n",
    "data_dir = \"../data/kaggle-huge-stock-market-dataset\"\n",
    "etfs = os.path.join(data_dir, \"ETFs\")\n",
    "\n",
    "ds = spy.SPYDataset(data_dir, ['Open'], 'Close')"
   ]
  },
  {
   "cell_type": "code",
   "execution_count": 46,
   "outputs": [],
   "source": [
    "train_ds, test_ds = data.random_split(ds, [int(0.8*len(ds)), len(ds)-int(0.8*len(ds))])\n",
    "train_dl = data.DataLoader(train_ds, batch_size=32, shuffle=True)"
   ],
   "metadata": {
    "collapsed": false,
    "pycharm": {
     "name": "#%%\n"
    }
   }
  },
  {
   "cell_type": "code",
   "execution_count": 47,
   "outputs": [],
   "source": [
    "net = basic_dnn_regression.BasicDNNRegression()"
   ],
   "metadata": {
    "collapsed": false,
    "pycharm": {
     "name": "#%%\n"
    }
   }
  },
  {
   "cell_type": "code",
   "execution_count": 49,
   "outputs": [
    {
     "name": "stderr",
     "output_type": "stream",
     "text": [
      "Epoch: 1, Batch #: 80, Current Loss: 0.923, Avg Loss: 3.217: 100%|██████████| 80/80 [00:02<00:00, 37.23it/s]  \n",
      "Epoch: 2, Batch #: 80, Current Loss: 0.920, Avg Loss: 1.242: 100%|██████████| 80/80 [00:02<00:00, 38.67it/s]\n",
      "Epoch: 3, Batch #: 80, Current Loss: 1.976, Avg Loss: 1.281: 100%|██████████| 80/80 [00:02<00:00, 39.89it/s]\n",
      "Epoch: 4, Batch #: 80, Current Loss: 0.796, Avg Loss: 1.286: 100%|██████████| 80/80 [00:01<00:00, 40.20it/s]\n",
      "Epoch: 5, Batch #: 80, Current Loss: 0.429, Avg Loss: 1.299: 100%|██████████| 80/80 [00:01<00:00, 40.20it/s]\n",
      "Epoch: 6, Batch #: 80, Current Loss: 1.875, Avg Loss: 1.230: 100%|██████████| 80/80 [00:01<00:00, 40.21it/s]\n",
      "Epoch: 7, Batch #: 80, Current Loss: 1.406, Avg Loss: 1.258: 100%|██████████| 80/80 [00:01<00:00, 40.18it/s]\n",
      "Epoch: 8, Batch #: 80, Current Loss: 1.025, Avg Loss: 1.320: 100%|██████████| 80/80 [00:01<00:00, 40.20it/s]\n",
      "Epoch: 9, Batch #: 80, Current Loss: 1.279, Avg Loss: 1.286: 100%|██████████| 80/80 [00:01<00:00, 40.25it/s]\n",
      "Epoch: 10, Batch #: 80, Current Loss: 0.692, Avg Loss: 1.309: 100%|██████████| 80/80 [00:01<00:00, 40.16it/s]\n"
     ]
    }
   ],
   "source": [
    "optimizer = torch.optim.Adam(net.parameters(), lr=0.001)\n",
    "loss_fn = nn.MSELoss()\n",
    "\n",
    "for epoch in range(10):\n",
    "    net.train_one_epoch(train_dl, optimizer, loss_fn, epoch)"
   ],
   "metadata": {
    "collapsed": false,
    "pycharm": {
     "name": "#%%\n"
    }
   }
  },
  {
   "cell_type": "code",
   "execution_count": null,
   "outputs": [],
   "source": [],
   "metadata": {
    "collapsed": false,
    "pycharm": {
     "name": "#%%\n"
    }
   }
  }
 ],
 "metadata": {
  "kernelspec": {
   "display_name": "Python 3",
   "language": "python",
   "name": "python3"
  },
  "language_info": {
   "codemirror_mode": {
    "name": "ipython",
    "version": 2
   },
   "file_extension": ".py",
   "mimetype": "text/x-python",
   "name": "python",
   "nbconvert_exporter": "python",
   "pygments_lexer": "ipython2",
   "version": "2.7.6"
  }
 },
 "nbformat": 4,
 "nbformat_minor": 0
}