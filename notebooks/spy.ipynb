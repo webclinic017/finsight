{
 "cells": [
  {
   "cell_type": "code",
   "execution_count": 13,
   "metadata": {
    "collapsed": true
   },
   "outputs": [],
   "source": [
    "import os\n",
    "import pandas as pd\n",
    "import matplotlib.pyplot as plt\n",
    "%matplotlib inline\n",
    "\n",
    "data_dir = \"../data/kaggle-huge-stock-market-dataset\"\n",
    "etfs = os.path.join(data_dir, \"ETFs\")\n",
    "stocks = os.path.join(data_dir, \"Stocks\")"
   ]
  },
  {
   "cell_type": "code",
   "execution_count": 12,
   "outputs": [
    {
     "data": {
      "text/plain": "1344"
     },
     "execution_count": 12,
     "metadata": {},
     "output_type": "execute_result"
    }
   ],
   "source": [
    "len(os.listdir(etfs))\n",
    "# print(list(map(lambda x: x.replace(\".txt\", \"\"), os.listdir(etfs))))"
   ],
   "metadata": {
    "collapsed": false,
    "pycharm": {
     "name": "#%%\n"
    }
   }
  },
  {
   "cell_type": "code",
   "execution_count": 6,
   "outputs": [],
   "source": [
    "spy = pd.read_csv(os.path.join(etfs, \"spy.us.txt\"))"
   ],
   "metadata": {
    "collapsed": false,
    "pycharm": {
     "name": "#%%\n"
    }
   }
  },
  {
   "cell_type": "code",
   "execution_count": 7,
   "outputs": [
    {
     "data": {
      "text/plain": "         Date    Open    High     Low   Close    Volume  OpenInt\n0  2005-02-25  104.77  106.00  104.68  105.79  70221808        0\n1  2005-02-28  105.55  105.68  104.56  105.08  79695344        0\n2  2005-03-01  105.22  105.87  105.22  105.62  54607412        0\n3  2005-03-02  105.21  106.22  105.10  105.57  73733090        0\n4  2005-03-03  105.99  106.20  105.15  105.61  71286823        0",
      "text/html": "<div>\n<style scoped>\n    .dataframe tbody tr th:only-of-type {\n        vertical-align: middle;\n    }\n\n    .dataframe tbody tr th {\n        vertical-align: top;\n    }\n\n    .dataframe thead th {\n        text-align: right;\n    }\n</style>\n<table border=\"1\" class=\"dataframe\">\n  <thead>\n    <tr style=\"text-align: right;\">\n      <th></th>\n      <th>Date</th>\n      <th>Open</th>\n      <th>High</th>\n      <th>Low</th>\n      <th>Close</th>\n      <th>Volume</th>\n      <th>OpenInt</th>\n    </tr>\n  </thead>\n  <tbody>\n    <tr>\n      <th>0</th>\n      <td>2005-02-25</td>\n      <td>104.77</td>\n      <td>106.00</td>\n      <td>104.68</td>\n      <td>105.79</td>\n      <td>70221808</td>\n      <td>0</td>\n    </tr>\n    <tr>\n      <th>1</th>\n      <td>2005-02-28</td>\n      <td>105.55</td>\n      <td>105.68</td>\n      <td>104.56</td>\n      <td>105.08</td>\n      <td>79695344</td>\n      <td>0</td>\n    </tr>\n    <tr>\n      <th>2</th>\n      <td>2005-03-01</td>\n      <td>105.22</td>\n      <td>105.87</td>\n      <td>105.22</td>\n      <td>105.62</td>\n      <td>54607412</td>\n      <td>0</td>\n    </tr>\n    <tr>\n      <th>3</th>\n      <td>2005-03-02</td>\n      <td>105.21</td>\n      <td>106.22</td>\n      <td>105.10</td>\n      <td>105.57</td>\n      <td>73733090</td>\n      <td>0</td>\n    </tr>\n    <tr>\n      <th>4</th>\n      <td>2005-03-03</td>\n      <td>105.99</td>\n      <td>106.20</td>\n      <td>105.15</td>\n      <td>105.61</td>\n      <td>71286823</td>\n      <td>0</td>\n    </tr>\n  </tbody>\n</table>\n</div>"
     },
     "execution_count": 7,
     "metadata": {},
     "output_type": "execute_result"
    }
   ],
   "source": [
    "spy.head()"
   ],
   "metadata": {
    "collapsed": false,
    "pycharm": {
     "name": "#%%\n"
    }
   }
  },
  {
   "cell_type": "code",
   "execution_count": 9,
   "outputs": [],
   "source": [
    "spy[\"Date\"] = pd.to_datetime(spy[\"Date\"])"
   ],
   "metadata": {
    "collapsed": false,
    "pycharm": {
     "name": "#%%\n"
    }
   }
  },
  {
   "cell_type": "code",
   "execution_count": 10,
   "outputs": [
    {
     "data": {
      "text/plain": "Date       datetime64[ns]\nOpen              float64\nHigh              float64\nLow               float64\nClose             float64\nVolume              int64\nOpenInt             int64\ndtype: object"
     },
     "execution_count": 10,
     "metadata": {},
     "output_type": "execute_result"
    }
   ],
   "source": [
    "spy.dtypes"
   ],
   "metadata": {
    "collapsed": false,
    "pycharm": {
     "name": "#%%\n"
    }
   }
  },
  {
   "cell_type": "code",
   "execution_count": 11,
   "outputs": [
    {
     "data": {
      "text/plain": "        Date    Open    High     Low   Close    Volume  OpenInt\n0 2005-02-25  104.77  106.00  104.68  105.79  70221808        0\n1 2005-02-28  105.55  105.68  104.56  105.08  79695344        0\n2 2005-03-01  105.22  105.87  105.22  105.62  54607412        0\n3 2005-03-02  105.21  106.22  105.10  105.57  73733090        0\n4 2005-03-03  105.99  106.20  105.15  105.61  71286823        0",
      "text/html": "<div>\n<style scoped>\n    .dataframe tbody tr th:only-of-type {\n        vertical-align: middle;\n    }\n\n    .dataframe tbody tr th {\n        vertical-align: top;\n    }\n\n    .dataframe thead th {\n        text-align: right;\n    }\n</style>\n<table border=\"1\" class=\"dataframe\">\n  <thead>\n    <tr style=\"text-align: right;\">\n      <th></th>\n      <th>Date</th>\n      <th>Open</th>\n      <th>High</th>\n      <th>Low</th>\n      <th>Close</th>\n      <th>Volume</th>\n      <th>OpenInt</th>\n    </tr>\n  </thead>\n  <tbody>\n    <tr>\n      <th>0</th>\n      <td>2005-02-25</td>\n      <td>104.77</td>\n      <td>106.00</td>\n      <td>104.68</td>\n      <td>105.79</td>\n      <td>70221808</td>\n      <td>0</td>\n    </tr>\n    <tr>\n      <th>1</th>\n      <td>2005-02-28</td>\n      <td>105.55</td>\n      <td>105.68</td>\n      <td>104.56</td>\n      <td>105.08</td>\n      <td>79695344</td>\n      <td>0</td>\n    </tr>\n    <tr>\n      <th>2</th>\n      <td>2005-03-01</td>\n      <td>105.22</td>\n      <td>105.87</td>\n      <td>105.22</td>\n      <td>105.62</td>\n      <td>54607412</td>\n      <td>0</td>\n    </tr>\n    <tr>\n      <th>3</th>\n      <td>2005-03-02</td>\n      <td>105.21</td>\n      <td>106.22</td>\n      <td>105.10</td>\n      <td>105.57</td>\n      <td>73733090</td>\n      <td>0</td>\n    </tr>\n    <tr>\n      <th>4</th>\n      <td>2005-03-03</td>\n      <td>105.99</td>\n      <td>106.20</td>\n      <td>105.15</td>\n      <td>105.61</td>\n      <td>71286823</td>\n      <td>0</td>\n    </tr>\n  </tbody>\n</table>\n</div>"
     },
     "execution_count": 11,
     "metadata": {},
     "output_type": "execute_result"
    }
   ],
   "source": [
    "spy.head()"
   ],
   "metadata": {
    "collapsed": false,
    "pycharm": {
     "name": "#%%\n"
    }
   }
  },
  {
   "cell_type": "code",
   "execution_count": 14,
   "outputs": [
    {
     "data": {
      "text/plain": "[<matplotlib.lines.Line2D at 0x7f6fa01d9820>]"
     },
     "execution_count": 14,
     "metadata": {},
     "output_type": "execute_result"
    },
    {
     "data": {
      "text/plain": "<Figure size 432x288 with 1 Axes>",
      "image/png": "[encoded data removed]"
     },
     "metadata": {
      "needs_background": "light"
     },
     "output_type": "display_data"
    }
   ],
   "source": [
    "plt.plot(spy[\"Date\"], spy[\"Close\"])"
   ],
   "metadata": {
    "collapsed": false,
    "pycharm": {
     "name": "#%%\n"
    }
   }
  },
  {
   "cell_type": "code",
   "execution_count": null,
   "outputs": [],
   "source": [],
   "metadata": {
    "collapsed": false,
    "pycharm": {
     "name": "#%%\n"
    }
   }
  }
 ],
 "metadata": {
  "kernelspec": {
   "display_name": "Python 3",
   "language": "python",
   "name": "python3"
  },
  "language_info": {
   "codemirror_mode": {
    "name": "ipython",
    "version": 2
   },
   "file_extension": ".py",
   "mimetype": "text/x-python",
   "name": "python",
   "nbconvert_exporter": "python",
   "pygments_lexer": "ipython2",
   "version": "2.7.6"
  }
 },
 "nbformat": 4,
 "nbformat_minor": 0
}