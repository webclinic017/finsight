{
 "cells": [
  {
   "cell_type": "code",
   "execution_count": 8,
   "metadata": {
    "collapsed": true
   },
   "outputs": [],
   "source": [
    "import os\n",
    "import pandas as pd\n",
    "import matplotlib.pyplot as plt\n",
    "import torch\n",
    "import torch.nn as nn\n",
    "import torch.utils.data as data\n",
    "\n",
    "from src.datasets.huge_stock_ds import spy\n",
    "import importlib\n",
    "importlib.reload(spy)\n",
    "\n",
    "%matplotlib inline\n",
    "\n",
    "data_dir = \"../data/kaggle-huge-stock-market-dataset\"\n",
    "etfs = os.path.join(data_dir, \"ETFs\")\n",
    "stocks = os.path.join(data_dir, \"Stocks\")\n",
    "\n",
    "ds = spy.SPYDataset(data_dir, ['Open'], 'Close')"
   ]
  },
  {
   "cell_type": "code",
   "execution_count": 9,
   "outputs": [],
   "source": [
    "train_ds, test_ds = data.random_split(ds, [int(0.8*len(ds)), len(ds)-int(0.8*len(ds))])\n",
    "train_dl = data.DataLoader(train_ds, batch_size=32, shuffle=True)"
   ],
   "metadata": {
    "collapsed": false,
    "pycharm": {
     "name": "#%%\n"
    }
   }
  },
  {
   "cell_type": "code",
   "execution_count": 25,
   "outputs": [],
   "source": [
    "class BasicDnnRegression(nn.Module):\n",
    "    def __init__(self):\n",
    "        super().__init__()\n",
    "        self.layer1 = nn.Linear(1, 32)\n",
    "        self.layer2 = nn.Linear(32, 64)\n",
    "        self.relu = nn.ReLU()\n",
    "        self.dropout = nn.Dropout(0.05)\n",
    "        self.layer3 = nn.Linear(64, 1)\n",
    "\n",
    "    def forward(self, x):\n",
    "        x = self.layer1(x)\n",
    "        x = self.relu(x)\n",
    "        x = self.layer2(x)\n",
    "        x = self.relu(x)\n",
    "        x = self.dropout(x)\n",
    "        x = self.layer3(x)\n",
    "        return x"
   ],
   "metadata": {
    "collapsed": false,
    "pycharm": {
     "name": "#%%\n"
    }
   }
  },
  {
   "cell_type": "code",
   "execution_count": 26,
   "outputs": [],
   "source": [
    "net = BasicDnnRegression()\n",
    "net = net.to(torch.device('cuda'))"
   ],
   "metadata": {
    "collapsed": false,
    "pycharm": {
     "name": "#%%\n"
    }
   }
  },
  {
   "cell_type": "code",
   "execution_count": 30,
   "outputs": [
    {
     "name": "stderr",
     "output_type": "stream",
     "text": [
      "Loss: 56.1730: 100%|██████████| 80/80 [00:02<00:00, 37.74it/s]   \n",
      "Loss: 66.5045: 100%|██████████| 80/80 [00:01<00:00, 40.32it/s] \n",
      "Loss: 84.0055: 100%|██████████| 80/80 [00:01<00:00, 40.37it/s] \n",
      "Loss: 44.2206: 100%|██████████| 80/80 [00:01<00:00, 40.19it/s] \n",
      "Loss: 90.1871: 100%|██████████| 80/80 [00:01<00:00, 40.36it/s] \n",
      "Loss: 41.5095: 100%|██████████| 80/80 [00:01<00:00, 40.21it/s] \n",
      "Loss: 43.7364: 100%|██████████| 80/80 [00:02<00:00, 39.97it/s] \n",
      "Loss: 30.4639: 100%|██████████| 80/80 [00:02<00:00, 39.69it/s] \n",
      "Loss: 49.9545: 100%|██████████| 80/80 [00:02<00:00, 39.44it/s] \n",
      "Loss: 29.9290: 100%|██████████| 80/80 [00:02<00:00, 39.90it/s] \n"
     ]
    }
   ],
   "source": [
    "from tqdm import tqdm\n",
    "\n",
    "epochs = 10\n",
    "optim = torch.optim.Adam(net.parameters(), lr=0.001)\n",
    "loss = nn.MSELoss()\n",
    "\n",
    "for i in range(epochs):\n",
    "    for x, y in (pbar := tqdm(train_dl, total=len(train_dl))):\n",
    "        x = x.to(torch.device('cuda'))\n",
    "        x = x.to(torch.float)\n",
    "        y = y.to(torch.device('cuda'))\n",
    "        y = y.to(torch.float)\n",
    "        y = y.view(-1, 1)\n",
    "\n",
    "\n",
    "        y_pred = net(x)\n",
    "        loss_val = loss(y_pred, y)\n",
    "\n",
    "        optim.zero_grad()\n",
    "        loss_val.backward()\n",
    "        optim.step()\n",
    "\n",
    "        pbar.set_description(f\"Epoch: {i + 1}, Loss: {loss_val.item():.4f}\")"
   ],
   "metadata": {
    "collapsed": false,
    "pycharm": {
     "name": "#%%\n"
    }
   }
  },
  {
   "cell_type": "code",
   "execution_count": 34,
   "outputs": [
    {
     "data": {
      "text/plain": "tensor([461.3300], device='cuda:0', grad_fn=<AddBackward0>)"
     },
     "execution_count": 34,
     "metadata": {},
     "output_type": "execute_result"
    }
   ],
   "source": [
    "net.forward(torch.Tensor([436.94]).to('cuda'))"
   ],
   "metadata": {
    "collapsed": false,
    "pycharm": {
     "name": "#%%\n"
    }
   }
  },
  {
   "cell_type": "code",
   "execution_count": null,
   "outputs": [],
   "source": [],
   "metadata": {
    "collapsed": false,
    "pycharm": {
     "name": "#%%\n"
    }
   }
  }
 ],
 "metadata": {
  "kernelspec": {
   "display_name": "Python 3",
   "language": "python",
   "name": "python3"
  },
  "language_info": {
   "codemirror_mode": {
    "name": "ipython",
    "version": 2
   },
   "file_extension": ".py",
   "mimetype": "text/x-python",
   "name": "python",
   "nbconvert_exporter": "python",
   "pygments_lexer": "ipython2",
   "version": "2.7.6"
  }
 },
 "nbformat": 4,
 "nbformat_minor": 0
}