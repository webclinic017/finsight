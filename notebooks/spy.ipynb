{
 "cells": [
  {
   "cell_type": "code",
   "execution_count": 69,
   "metadata": {
    "collapsed": true,
    "pycharm": {
     "name": "#%%\n"
    }
   },
   "outputs": [],
   "source": [
    "import os\n",
    "import torch\n",
    "import torch.nn as nn\n",
    "import torch.utils.data as data\n",
    "\n",
    "import importlib\n",
    "\n",
    "from src.datasets.huge_stock_ds import spy\n",
    "from src.models import basic_dnn_regression\n",
    "importlib.reload(spy)\n",
    "importlib.reload(basic_dnn_regression)\n",
    "\n",
    "data_dir = \"../data/kaggle-huge-stock-market-dataset\"\n",
    "etfs = os.path.join(data_dir, \"ETFs\")\n",
    "\n",
    "ds = spy.SPYDataset(data_dir, ['Open'], 'Close')"
   ]
  },
  {
   "cell_type": "code",
   "execution_count": 70,
   "outputs": [],
   "source": [
    "train_ds, test_ds = data.random_split(ds, [int(0.8*len(ds)), len(ds)-int(0.8*len(ds))])\n",
    "train_dl = data.DataLoader(train_ds, batch_size=256, shuffle=True)\n",
    "test_dl = data.DataLoader(test_ds, batch_size=256, shuffle=True)"
   ],
   "metadata": {
    "collapsed": false,
    "pycharm": {
     "name": "#%%\n"
    }
   }
  },
  {
   "cell_type": "code",
   "execution_count": 71,
   "outputs": [],
   "source": [
    "net = basic_dnn_regression.BasicDNNRegression()"
   ],
   "metadata": {
    "collapsed": false,
    "pycharm": {
     "name": "#%%\n"
    }
   }
  },
  {
   "cell_type": "code",
   "execution_count": 72,
   "outputs": [
    {
     "name": "stderr",
     "output_type": "stream",
     "text": [
      "Epoch: 1, Batch #: 10, Current Loss: 15372.296, Avg Loss: 19046.283: 100%|██████████| 10/10 [00:01<00:00,  5.04it/s]\n",
      "Epoch: 2, Batch #: 10, Current Loss: 8482.211, Avg Loss: 11095.933: 100%|██████████| 10/10 [00:01<00:00,  5.04it/s]\n",
      "Epoch: 3, Batch #: 10, Current Loss: 3873.439, Avg Loss: 5783.653: 100%|██████████| 10/10 [00:01<00:00,  5.02it/s]\n",
      "Epoch: 4, Batch #: 10, Current Loss: 1262.683, Avg Loss: 2253.802: 100%|██████████| 10/10 [00:01<00:00,  5.06it/s]\n",
      "Epoch: 5, Batch #: 10, Current Loss: 111.044, Avg Loss: 467.419: 100%|██████████| 10/10 [00:01<00:00,  5.03it/s]\n",
      "Epoch: 6, Batch #: 10, Current Loss: 19.331, Avg Loss: 18.262: 100%|██████████| 10/10 [00:01<00:00,  5.05it/s]\n",
      "Epoch: 7, Batch #: 10, Current Loss: 55.353, Avg Loss: 48.702: 100%|██████████| 10/10 [00:01<00:00,  5.04it/s]\n",
      "Epoch: 8, Batch #: 10, Current Loss: 16.975, Avg Loss: 35.027: 100%|██████████| 10/10 [00:01<00:00,  5.03it/s]\n",
      "Epoch: 9, Batch #: 10, Current Loss: 1.074, Avg Loss: 5.240: 100%|██████████| 10/10 [00:02<00:00,  4.94it/s]\n",
      "Epoch: 10, Batch #: 10, Current Loss: 2.994, Avg Loss: 1.981: 100%|██████████| 10/10 [00:01<00:00,  5.04it/s]\n"
     ]
    }
   ],
   "source": [
    "optimizer = torch.optim.Adam(net.parameters(), lr=0.001)\n",
    "loss_fn = nn.MSELoss()\n",
    "\n",
    "for epoch in range(10):\n",
    "    net.train_one_epoch(train_dl, optimizer, loss_fn, epoch)"
   ],
   "metadata": {
    "collapsed": false,
    "pycharm": {
     "name": "#%%\n"
    }
   }
  },
  {
   "cell_type": "code",
   "execution_count": 73,
   "outputs": [
    {
     "name": "stderr",
     "output_type": "stream",
     "text": [
      "Batch #: 3, Current Loss: 2.953, Avg Loss: 3.010: 100%|██████████| 3/3 [00:00<00:00,  5.61it/s]\n"
     ]
    },
    {
     "data": {
      "text/plain": "3.0103448232014975"
     },
     "execution_count": 73,
     "metadata": {},
     "output_type": "execute_result"
    }
   ],
   "source": [
    "net.test(test_dl, criterion=loss_fn)"
   ],
   "metadata": {
    "collapsed": false,
    "pycharm": {
     "name": "#%%\n"
    }
   }
  }
 ],
 "metadata": {
  "kernelspec": {
   "display_name": "Python 3",
   "language": "python",
   "name": "python3"
  },
  "language_info": {
   "codemirror_mode": {
    "name": "ipython",
    "version": 2
   },
   "file_extension": ".py",
   "mimetype": "text/x-python",
   "name": "python",
   "nbconvert_exporter": "python",
   "pygments_lexer": "ipython2",
   "version": "2.7.6"
  }
 },
 "nbformat": 4,
 "nbformat_minor": 0
}